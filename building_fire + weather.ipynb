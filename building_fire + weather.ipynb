{
 "cells": [
  {
   "cell_type": "code",
   "execution_count": 25,
   "metadata": {},
   "outputs": [],
   "source": [
    "import pandas as pd\n",
    "import numpy as np\n",
    "import matplotlib.pyplot as plt\n",
    "%matplotlib inline\n",
    "\n",
    "path='D:/Projects/Capstone/'\n",
    "filename=path+'Building fire-weather.csv'\n",
    "building_fire=pd.read_csv(filename,encoding='ISO-8859-1',na_filter=True)\n"
   ]
  },
  {
   "cell_type": "code",
   "execution_count": 26,
   "metadata": {},
   "outputs": [
    {
     "data": {
      "text/html": [
       "<div>\n",
       "<style>\n",
       "    .dataframe thead tr:only-child th {\n",
       "        text-align: right;\n",
       "    }\n",
       "\n",
       "    .dataframe thead th {\n",
       "        text-align: left;\n",
       "    }\n",
       "\n",
       "    .dataframe tbody tr th {\n",
       "        vertical-align: top;\n",
       "    }\n",
       "</style>\n",
       "<table border=\"1\" class=\"dataframe\">\n",
       "  <thead>\n",
       "    <tr style=\"text-align: right;\">\n",
       "      <th></th>\n",
       "      <th>Date_time</th>\n",
       "      <th>Building fires</th>\n",
       "      <th>Temperature</th>\n",
       "      <th>Dew Point</th>\n",
       "      <th>Humidity</th>\n",
       "      <th>Wind speed</th>\n",
       "    </tr>\n",
       "  </thead>\n",
       "  <tbody>\n",
       "    <tr>\n",
       "      <th>0</th>\n",
       "      <td>1/1/2013 1:00</td>\n",
       "      <td>1</td>\n",
       "      <td>-1.2</td>\n",
       "      <td>-4.0</td>\n",
       "      <td>79.0</td>\n",
       "      <td>6.0</td>\n",
       "    </tr>\n",
       "    <tr>\n",
       "      <th>1</th>\n",
       "      <td>1/1/2013 5:00</td>\n",
       "      <td>1</td>\n",
       "      <td>-9.4</td>\n",
       "      <td>-13.0</td>\n",
       "      <td>71.0</td>\n",
       "      <td>2.0</td>\n",
       "    </tr>\n",
       "    <tr>\n",
       "      <th>2</th>\n",
       "      <td>1/1/2013 16:00</td>\n",
       "      <td>1</td>\n",
       "      <td>-12.0</td>\n",
       "      <td>-17.0</td>\n",
       "      <td>64.0</td>\n",
       "      <td>4.0</td>\n",
       "    </tr>\n",
       "    <tr>\n",
       "      <th>3</th>\n",
       "      <td>1/1/2013 18:00</td>\n",
       "      <td>1</td>\n",
       "      <td>-12.9</td>\n",
       "      <td>-17.0</td>\n",
       "      <td>71.0</td>\n",
       "      <td>4.0</td>\n",
       "    </tr>\n",
       "    <tr>\n",
       "      <th>4</th>\n",
       "      <td>1/1/2013 19:00</td>\n",
       "      <td>2</td>\n",
       "      <td>-13.8</td>\n",
       "      <td>-17.0</td>\n",
       "      <td>72.0</td>\n",
       "      <td>6.0</td>\n",
       "    </tr>\n",
       "  </tbody>\n",
       "</table>\n",
       "</div>"
      ],
      "text/plain": [
       "        Date_time  Building fires  Temperature  Dew Point   Humidity  \\\n",
       "0   1/1/2013 1:00               1         -1.2        -4.0      79.0   \n",
       "1   1/1/2013 5:00               1         -9.4       -13.0      71.0   \n",
       "2  1/1/2013 16:00               1        -12.0       -17.0      64.0   \n",
       "3  1/1/2013 18:00               1        -12.9       -17.0      71.0   \n",
       "4  1/1/2013 19:00               2        -13.8       -17.0      72.0   \n",
       "\n",
       "   Wind speed  \n",
       "0         6.0  \n",
       "1         2.0  \n",
       "2         4.0  \n",
       "3         4.0  \n",
       "4         6.0  "
      ]
     },
     "execution_count": 26,
     "metadata": {},
     "output_type": "execute_result"
    }
   ],
   "source": [
    "building_fire.head()"
   ]
  },
  {
   "cell_type": "code",
   "execution_count": 45,
   "metadata": {},
   "outputs": [],
   "source": [
    "building_fire.columns=['Date_time','building_f','Temp','Dew_P','Hum','Wind']\n"
   ]
  },
  {
   "cell_type": "code",
   "execution_count": 27,
   "metadata": {},
   "outputs": [
    {
     "data": {
      "text/plain": [
       "(5856, 6)"
      ]
     },
     "execution_count": 27,
     "metadata": {},
     "output_type": "execute_result"
    }
   ],
   "source": [
    "building_fire.shape"
   ]
  },
  {
   "cell_type": "code",
   "execution_count": 35,
   "metadata": {},
   "outputs": [
    {
     "name": "stdout",
     "output_type": "stream",
     "text": [
      "<class 'pandas.core.frame.DataFrame'>\n",
      "RangeIndex: 5856 entries, 0 to 5855\n",
      "Data columns (total 6 columns):\n",
      "Date_time         5856 non-null object\n",
      "Building fires    5856 non-null int64\n",
      "Temperature       5750 non-null float64\n",
      "Dew Point         5484 non-null float64\n",
      "Humidity          5772 non-null float64\n",
      "Wind speed        5692 non-null float64\n",
      "dtypes: float64(4), int64(1), object(1)\n",
      "memory usage: 274.6+ KB\n"
     ]
    }
   ],
   "source": [
    "building_fire.info()"
   ]
  },
  {
   "cell_type": "code",
   "execution_count": 29,
   "metadata": {},
   "outputs": [
    {
     "data": {
      "text/plain": [
       "array([[<matplotlib.axes._subplots.AxesSubplot object at 0x00000280082CA6A0>,\n",
       "        <matplotlib.axes._subplots.AxesSubplot object at 0x000002800833FCC0>],\n",
       "       [<matplotlib.axes._subplots.AxesSubplot object at 0x00000280083527B8>,\n",
       "        <matplotlib.axes._subplots.AxesSubplot object at 0x000002800840DB38>],\n",
       "       [<matplotlib.axes._subplots.AxesSubplot object at 0x00000280084702E8>,\n",
       "        <matplotlib.axes._subplots.AxesSubplot object at 0x0000028008470320>]], dtype=object)"
      ]
     },
     "execution_count": 29,
     "metadata": {},
     "output_type": "execute_result"
    },
    {
     "data": {
      "image/png": "[encoded data removed]",
      "text/plain": [
       "<matplotlib.figure.Figure at 0x280082d5dd8>"
      ]
     },
     "metadata": {},
     "output_type": "display_data"
    }
   ],
   "source": [
    "building_fire.hist()"
   ]
  },
  {
   "cell_type": "code",
   "execution_count": 37,
   "metadata": {},
   "outputs": [
    {
     "data": {
      "text/plain": [
       "Building fires     1.078381\n",
       "Temperature        7.510539\n",
       "Dew Point          0.713166\n",
       "Humidity          65.118330\n",
       "Wind speed         6.658117\n",
       "dtype: float64"
      ]
     },
     "execution_count": 37,
     "metadata": {},
     "output_type": "execute_result"
    }
   ],
   "source": [
    "building_fire.mean()"
   ]
  },
  {
   "cell_type": "code",
   "execution_count": 38,
   "metadata": {},
   "outputs": [],
   "source": [
    " building_fire=building_fire.fillna(building_fire.mean())"
   ]
  },
  {
   "cell_type": "code",
   "execution_count": 39,
   "metadata": {},
   "outputs": [
    {
     "data": {
      "text/plain": [
       "<bound method DataFrame.info of             Date_time  Building fires  Temperature  Dew Point   Humidity  \\\n",
       "0       1/1/2013 1:00               1    -1.200000        -4.0      79.0   \n",
       "1       1/1/2013 5:00               1    -9.400000       -13.0      71.0   \n",
       "2      1/1/2013 16:00               1   -12.000000       -17.0      64.0   \n",
       "3      1/1/2013 18:00               1   -12.900000       -17.0      71.0   \n",
       "4      1/1/2013 19:00               2   -13.800000       -17.0      72.0   \n",
       "5       1/2/2013 5:00               1   -12.700000       -15.0      82.0   \n",
       "6       1/2/2013 9:00               1   -14.900000       -17.0      78.0   \n",
       "7      1/2/2013 13:00               1   -14.900000       -20.0      64.0   \n",
       "8      1/2/2013 15:00               1   -15.300000       -22.0      53.0   \n",
       "9      1/2/2013 18:00               1   -17.700000       -23.0      63.0   \n",
       "10      1/3/2013 0:00               1   -19.500000       -24.0      67.0   \n",
       "11     1/3/2013 15:00               1   -15.900000       -20.0      70.0   \n",
       "12     1/3/2013 16:00               1   -15.500000       -18.0      75.0   \n",
       "13      1/4/2013 6:00               1    -9.600000       -11.0      89.0   \n",
       "14     1/4/2013 11:00               1    -1.500000        -3.0      85.0   \n",
       "15     1/4/2013 21:00               1    -0.900000        -2.0      88.0   \n",
       "16      1/5/2013 2:00               1     7.510539        -2.0      82.0   \n",
       "17      1/5/2013 4:00               2    -1.600000        -7.0      65.0   \n",
       "18      1/5/2013 6:00               1    -3.800000       -10.0      62.0   \n",
       "19     1/5/2013 11:00               1    -7.000000       -15.0      51.0   \n",
       "20     1/5/2013 18:00               1    -8.800000       -14.0      63.0   \n",
       "21     1/5/2013 19:00               2   -10.100000       -14.0      68.0   \n",
       "22      1/6/2013 2:00               1    -8.000000       -11.0      76.0   \n",
       "23      1/6/2013 4:00               1    -7.800000       -10.0      82.0   \n",
       "24     1/6/2013 15:00               1    -8.700000        -9.0      92.0   \n",
       "25     1/6/2013 23:00               1    -8.700000       -10.0      89.0   \n",
       "26     1/7/2013 10:00               1   -14.800000       -20.0      65.0   \n",
       "27     1/7/2013 11:00               1   -14.400000       -19.0      65.0   \n",
       "28     1/7/2013 12:00               1   -13.900000       -19.0      64.0   \n",
       "29     1/7/2013 19:00               1   -10.200000       -13.0      80.0   \n",
       "...               ...             ...          ...         ...       ...   \n",
       "5826  3/11/2018 13:00               1     1.300000        -4.0      65.0   \n",
       "5827   3/12/2018 4:00               1    -0.700000        -4.0      74.0   \n",
       "5828  3/14/2018 14:00               1     0.700000        -1.0      88.0   \n",
       "5829  3/14/2018 20:00               1     0.200000        -1.0      90.0   \n",
       "5830   3/15/2018 0:00               1     7.510539        -1.0      90.0   \n",
       "5831   3/15/2018 1:00               1    -0.300000        -1.0      93.0   \n",
       "5832  3/15/2018 10:00               1     0.100000        -5.0      66.0   \n",
       "5833  3/15/2018 19:00               1     0.200000        -6.0      60.0   \n",
       "5834  3/15/2018 21:00               1    -0.500000        -7.0      60.0   \n",
       "5835  3/15/2018 23:00               1    -1.600000        -8.0      59.0   \n",
       "5836  3/16/2018 11:00               1    -5.000000       -13.0      51.0   \n",
       "5837  3/16/2018 18:00               1    -4.600000       -12.0      54.0   \n",
       "5838   3/17/2018 1:00               1    -7.200000       -17.0      44.0   \n",
       "5839  3/17/2018 20:00               1    -9.500000       -22.0      34.0   \n",
       "5840  3/17/2018 22:00               1   -10.600000       -23.0      35.0   \n",
       "5841   3/18/2018 5:00               1   -14.000000       -23.0      45.0   \n",
       "5842   3/19/2018 6:00               1   -12.300000       -22.0      44.0   \n",
       "5843  3/19/2018 16:00               1    -3.800000       -15.0      40.0   \n",
       "5844  3/20/2018 11:00               1    -5.300000       -14.0      49.0   \n",
       "5845  3/20/2018 12:00               1    -4.200000       -13.0      48.0   \n",
       "5846  3/20/2018 14:00               1    -1.800000       -11.0      47.0   \n",
       "5847   3/21/2018 3:00               1    -5.600000       -11.0      65.0   \n",
       "5848   3/21/2018 5:00               1    -6.700000       -12.0      62.0   \n",
       "5849   3/21/2018 9:00               1    -5.000000       -12.0      56.0   \n",
       "5850  3/21/2018 16:00               1     1.200000        -8.0      48.0   \n",
       "5851  3/21/2018 17:00               1     1.500000        -8.0      47.0   \n",
       "5852   3/22/2018 8:00               1    -1.500000        -7.0      66.0   \n",
       "5853  3/22/2018 16:00               1     5.400000        -6.0      44.0   \n",
       "5854  3/22/2018 21:00               1     1.000000        -4.0      67.0   \n",
       "5855  3/22/2018 22:00               1     1.200000        -4.0      64.0   \n",
       "\n",
       "      Wind speed  \n",
       "0       6.000000  \n",
       "1       2.000000  \n",
       "2       4.000000  \n",
       "3       4.000000  \n",
       "4       6.000000  \n",
       "5       7.000000  \n",
       "6       9.000000  \n",
       "7      11.000000  \n",
       "8       9.000000  \n",
       "9       4.000000  \n",
       "10      7.000000  \n",
       "11      7.000000  \n",
       "12      4.000000  \n",
       "13      6.000000  \n",
       "14     11.000000  \n",
       "15      9.000000  \n",
       "16      9.000000  \n",
       "17      6.000000  \n",
       "18     17.000000  \n",
       "19      9.000000  \n",
       "20      6.658117  \n",
       "21      2.000000  \n",
       "22      7.000000  \n",
       "23      4.000000  \n",
       "24      9.000000  \n",
       "25     17.000000  \n",
       "26      7.000000  \n",
       "27      7.000000  \n",
       "28      7.000000  \n",
       "29      9.000000  \n",
       "...          ...  \n",
       "5826    4.000000  \n",
       "5827    3.000000  \n",
       "5828    9.000000  \n",
       "5829    4.000000  \n",
       "5830    7.000000  \n",
       "5831    8.000000  \n",
       "5832    8.000000  \n",
       "5833    4.000000  \n",
       "5834    7.000000  \n",
       "5835    3.000000  \n",
       "5836    4.000000  \n",
       "5837    6.000000  \n",
       "5838    5.000000  \n",
       "5839    5.000000  \n",
       "5840    8.000000  \n",
       "5841    6.000000  \n",
       "5842    6.000000  \n",
       "5843    6.000000  \n",
       "5844    7.000000  \n",
       "5845    5.000000  \n",
       "5846    4.000000  \n",
       "5847    9.000000  \n",
       "5848   12.000000  \n",
       "5849    9.000000  \n",
       "5850   10.000000  \n",
       "5851    7.000000  \n",
       "5852   14.000000  \n",
       "5853    7.000000  \n",
       "5854    3.000000  \n",
       "5855    3.000000  \n",
       "\n",
       "[5856 rows x 6 columns]>"
      ]
     },
     "execution_count": 39,
     "metadata": {},
     "output_type": "execute_result"
    }
   ],
   "source": [
    "building_fire.info"
   ]
  },
  {
   "cell_type": "code",
   "execution_count": 30,
   "metadata": {},
   "outputs": [
    {
     "data": {
      "text/plain": [
       "<matplotlib.axes._subplots.AxesSubplot at 0x28008594f98>"
      ]
     },
     "execution_count": 30,
     "metadata": {},
     "output_type": "execute_result"
    },
    {
     "data": {
      "image/png": "[encoded data removed]",
      "text/plain": [
       "<matplotlib.figure.Figure at 0x280082a2d68>"
      ]
     },
     "metadata": {},
     "output_type": "display_data"
    }
   ],
   "source": [
    "building_fire.boxplot()"
   ]
  },
  {
   "cell_type": "code",
   "execution_count": 31,
   "metadata": {},
   "outputs": [],
   "source": [
    "from sklearn.linear_model import LinearRegression"
   ]
  },
  {
   "cell_type": "code",
   "execution_count": 46,
   "metadata": {},
   "outputs": [
    {
     "data": {
      "text/plain": [
       "LinearRegression(copy_X=True, fit_intercept=True, n_jobs=1, normalize=False)"
      ]
     },
     "execution_count": 46,
     "metadata": {},
     "output_type": "execute_result"
    }
   ],
   "source": [
    "Ic=LinearRegression()\n",
    "Ic.fit(X=building_fire[['Temp']],y=building_fire['building_f'])"
   ]
  },
  {
   "cell_type": "code",
   "execution_count": 47,
   "metadata": {},
   "outputs": [
    {
     "name": "stdout",
     "output_type": "stream",
     "text": [
      "1.07774714759 [  8.44147052e-05]\n"
     ]
    }
   ],
   "source": [
    "# regression parameters intercept is beta0 and coef_ is beta1\n",
    "print(Ic.intercept_, Ic.coef_)"
   ]
  },
  {
   "cell_type": "code",
   "execution_count": 48,
   "metadata": {},
   "outputs": [
    {
     "data": {
      "text/html": [
       "<table class=\"simpletable\">\n",
       "<caption>OLS Regression Results</caption>\n",
       "<tr>\n",
       "  <th>Dep. Variable:</th>       <td>building_f</td>    <th>  R-squared:         </th> <td>   0.003</td>\n",
       "</tr>\n",
       "<tr>\n",
       "  <th>Model:</th>                   <td>OLS</td>       <th>  Adj. R-squared:    </th> <td>   0.002</td>\n",
       "</tr>\n",
       "<tr>\n",
       "  <th>Method:</th>             <td>Least Squares</td>  <th>  F-statistic:       </th> <td>   3.860</td>\n",
       "</tr>\n",
       "<tr>\n",
       "  <th>Date:</th>             <td>Wed, 20 Feb 2019</td> <th>  Prob (F-statistic):</th>  <td>0.00390</td>\n",
       "</tr>\n",
       "<tr>\n",
       "  <th>Time:</th>                 <td>12:52:07</td>     <th>  Log-Likelihood:    </th> <td> -995.77</td>\n",
       "</tr>\n",
       "<tr>\n",
       "  <th>No. Observations:</th>      <td>  5856</td>      <th>  AIC:               </th> <td>   2002.</td>\n",
       "</tr>\n",
       "<tr>\n",
       "  <th>Df Residuals:</th>          <td>  5851</td>      <th>  BIC:               </th> <td>   2035.</td>\n",
       "</tr>\n",
       "<tr>\n",
       "  <th>Df Model:</th>              <td>     4</td>      <th>                     </th>     <td> </td>   \n",
       "</tr>\n",
       "<tr>\n",
       "  <th>Covariance Type:</th>      <td>nonrobust</td>    <th>                     </th>     <td> </td>   \n",
       "</tr>\n",
       "</table>\n",
       "<table class=\"simpletable\">\n",
       "<tr>\n",
       "      <td></td>         <th>coef</th>     <th>std err</th>      <th>t</th>      <th>P>|t|</th>  <th>[0.025</th>    <th>0.975]</th>  \n",
       "</tr>\n",
       "<tr>\n",
       "  <th>Intercept</th> <td>    1.1790</td> <td>    0.074</td> <td>   15.944</td> <td> 0.000</td> <td>    1.034</td> <td>    1.324</td>\n",
       "</tr>\n",
       "<tr>\n",
       "  <th>Temp</th>      <td>   -0.0028</td> <td>    0.003</td> <td>   -0.905</td> <td> 0.365</td> <td>   -0.009</td> <td>    0.003</td>\n",
       "</tr>\n",
       "<tr>\n",
       "  <th>Dew_P</th>     <td>    0.0031</td> <td>    0.003</td> <td>    0.893</td> <td> 0.372</td> <td>   -0.004</td> <td>    0.010</td>\n",
       "</tr>\n",
       "<tr>\n",
       "  <th>Hum</th>       <td>   -0.0014</td> <td>    0.001</td> <td>   -1.762</td> <td> 0.078</td> <td>   -0.003</td> <td>    0.000</td>\n",
       "</tr>\n",
       "<tr>\n",
       "  <th>Wind</th>      <td>    0.0018</td> <td>    0.001</td> <td>    1.428</td> <td> 0.153</td> <td>   -0.001</td> <td>    0.004</td>\n",
       "</tr>\n",
       "</table>\n",
       "<table class=\"simpletable\">\n",
       "<tr>\n",
       "  <th>Omnibus:</th>       <td>4628.407</td> <th>  Durbin-Watson:     </th> <td>   1.973</td> \n",
       "</tr>\n",
       "<tr>\n",
       "  <th>Prob(Omnibus):</th>  <td> 0.000</td>  <th>  Jarque-Bera (JB):  </th> <td>77965.162</td>\n",
       "</tr>\n",
       "<tr>\n",
       "  <th>Skew:</th>           <td> 3.840</td>  <th>  Prob(JB):          </th> <td>    0.00</td> \n",
       "</tr>\n",
       "<tr>\n",
       "  <th>Kurtosis:</th>       <td>19.141</td>  <th>  Cond. No.          </th> <td>1.35e+03</td> \n",
       "</tr>\n",
       "</table>"
      ],
      "text/plain": [
       "<class 'statsmodels.iolib.summary.Summary'>\n",
       "\"\"\"\n",
       "                            OLS Regression Results                            \n",
       "==============================================================================\n",
       "Dep. Variable:             building_f   R-squared:                       0.003\n",
       "Model:                            OLS   Adj. R-squared:                  0.002\n",
       "Method:                 Least Squares   F-statistic:                     3.860\n",
       "Date:                Wed, 20 Feb 2019   Prob (F-statistic):            0.00390\n",
       "Time:                        12:52:07   Log-Likelihood:                -995.77\n",
       "No. Observations:                5856   AIC:                             2002.\n",
       "Df Residuals:                    5851   BIC:                             2035.\n",
       "Df Model:                           4                                         \n",
       "Covariance Type:            nonrobust                                         \n",
       "==============================================================================\n",
       "                 coef    std err          t      P>|t|      [0.025      0.975]\n",
       "------------------------------------------------------------------------------\n",
       "Intercept      1.1790      0.074     15.944      0.000       1.034       1.324\n",
       "Temp          -0.0028      0.003     -0.905      0.365      -0.009       0.003\n",
       "Dew_P          0.0031      0.003      0.893      0.372      -0.004       0.010\n",
       "Hum           -0.0014      0.001     -1.762      0.078      -0.003       0.000\n",
       "Wind           0.0018      0.001      1.428      0.153      -0.001       0.004\n",
       "==============================================================================\n",
       "Omnibus:                     4628.407   Durbin-Watson:                   1.973\n",
       "Prob(Omnibus):                  0.000   Jarque-Bera (JB):            77965.162\n",
       "Skew:                           3.840   Prob(JB):                         0.00\n",
       "Kurtosis:                      19.141   Cond. No.                     1.35e+03\n",
       "==============================================================================\n",
       "\n",
       "Warnings:\n",
       "[1] Standard Errors assume that the covariance matrix of the errors is correctly specified.\n",
       "[2] The condition number is large, 1.35e+03. This might indicate that there are\n",
       "strong multicollinearity or other numerical problems.\n",
       "\"\"\""
      ]
     },
     "execution_count": 48,
     "metadata": {},
     "output_type": "execute_result"
    }
   ],
   "source": [
    "import statsmodels.formula.api as smf\n",
    "model=smf.ols(formula='building_f~Temp+Dew_P+Hum+Wind',data=building_fire)\n",
    "ir=model.fit()\n",
    "ir.summary()"
   ]
  },
  {
   "cell_type": "code",
   "execution_count": null,
   "metadata": {},
   "outputs": [],
   "source": []
  }
 ],
 "metadata": {
  "kernelspec": {
   "display_name": "Python 3",
   "language": "python",
   "name": "python3"
  },
  "language_info": {
   "codemirror_mode": {
    "name": "ipython",
    "version": 3
   },
   "file_extension": ".py",
   "mimetype": "text/x-python",
   "name": "python",
   "nbconvert_exporter": "python",
   "pygments_lexer": "ipython3",
   "version": "3.6.2"
  }
 },
 "nbformat": 4,
 "nbformat_minor": 2
}
