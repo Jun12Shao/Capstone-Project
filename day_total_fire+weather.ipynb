{
 "cells": [
  {
   "cell_type": "code",
   "execution_count": 1,
   "metadata": {},
   "outputs": [],
   "source": [
    "import pandas as pd\n",
    "import numpy as np\n",
    "import matplotlib.pyplot as plt\n",
    "%matplotlib inline\n",
    "\n",
    "path='D:/Projects/Capstone/'\n",
    "filename=path+'day_total_incidents-weather.csv'\n",
    "intervention=pd.read_csv(filename,encoding='ISO-8859-1')\n"
   ]
  },
  {
   "cell_type": "code",
   "execution_count": 2,
   "metadata": {},
   "outputs": [
    {
     "data": {
      "text/html": [
       "<div>\n",
       "<style>\n",
       "    .dataframe thead tr:only-child th {\n",
       "        text-align: right;\n",
       "    }\n",
       "\n",
       "    .dataframe thead th {\n",
       "        text-align: left;\n",
       "    }\n",
       "\n",
       "    .dataframe tbody tr th {\n",
       "        vertical-align: top;\n",
       "    }\n",
       "</style>\n",
       "<table border=\"1\" class=\"dataframe\">\n",
       "  <thead>\n",
       "    <tr style=\"text-align: right;\">\n",
       "      <th></th>\n",
       "      <th>Day</th>\n",
       "      <th>Total incidents</th>\n",
       "      <th>Avg_Temp</th>\n",
       "      <th>Avg_Dew_Point</th>\n",
       "      <th>Avg_Hum</th>\n",
       "      <th>Avg_Wind_speed</th>\n",
       "    </tr>\n",
       "  </thead>\n",
       "  <tbody>\n",
       "    <tr>\n",
       "      <th>0</th>\n",
       "      <td>1/1/2013</td>\n",
       "      <td>414</td>\n",
       "      <td>-10.233333</td>\n",
       "      <td>-14.458333</td>\n",
       "      <td>69.000000</td>\n",
       "      <td>5.458333</td>\n",
       "    </tr>\n",
       "    <tr>\n",
       "      <th>1</th>\n",
       "      <td>1/1/2014</td>\n",
       "      <td>427</td>\n",
       "      <td>-17.925000</td>\n",
       "      <td>-23.666667</td>\n",
       "      <td>59.083333</td>\n",
       "      <td>6.041667</td>\n",
       "    </tr>\n",
       "    <tr>\n",
       "      <th>2</th>\n",
       "      <td>1/1/2015</td>\n",
       "      <td>411</td>\n",
       "      <td>-5.112500</td>\n",
       "      <td>-8.250000</td>\n",
       "      <td>76.333333</td>\n",
       "      <td>10.458333</td>\n",
       "    </tr>\n",
       "    <tr>\n",
       "      <th>3</th>\n",
       "      <td>1/1/2016</td>\n",
       "      <td>361</td>\n",
       "      <td>-1.479167</td>\n",
       "      <td>-2.875000</td>\n",
       "      <td>87.541667</td>\n",
       "      <td>5.166667</td>\n",
       "    </tr>\n",
       "    <tr>\n",
       "      <th>4</th>\n",
       "      <td>1/1/2017</td>\n",
       "      <td>395</td>\n",
       "      <td>-2.704167</td>\n",
       "      <td>-5.291667</td>\n",
       "      <td>80.875000</td>\n",
       "      <td>4.791667</td>\n",
       "    </tr>\n",
       "  </tbody>\n",
       "</table>\n",
       "</div>"
      ],
      "text/plain": [
       "        Day  Total incidents   Avg_Temp  Avg_Dew_Point     Avg_Hum  \\\n",
       "0  1/1/2013              414 -10.233333      -14.458333  69.000000   \n",
       "1  1/1/2014              427 -17.925000      -23.666667  59.083333   \n",
       "2  1/1/2015              411  -5.112500       -8.250000  76.333333   \n",
       "3  1/1/2016              361  -1.479167       -2.875000  87.541667   \n",
       "4  1/1/2017              395  -2.704167       -5.291667  80.875000   \n",
       "\n",
       "   Avg_Wind_speed  \n",
       "0        5.458333  \n",
       "1        6.041667  \n",
       "2       10.458333  \n",
       "3        5.166667  \n",
       "4        4.791667  "
      ]
     },
     "execution_count": 2,
     "metadata": {},
     "output_type": "execute_result"
    }
   ],
   "source": [
    "intervention.head()"
   ]
  },
  {
   "cell_type": "code",
   "execution_count": 3,
   "metadata": {},
   "outputs": [],
   "source": [
    "intervention.columns=['Date_time','total_fire','Temp','Dew_P','Hum','Wind']\n"
   ]
  },
  {
   "cell_type": "code",
   "execution_count": 4,
   "metadata": {},
   "outputs": [
    {
     "data": {
      "text/plain": [
       "(1877, 6)"
      ]
     },
     "execution_count": 4,
     "metadata": {},
     "output_type": "execute_result"
    }
   ],
   "source": [
    "intervention.shape"
   ]
  },
  {
   "cell_type": "code",
   "execution_count": 5,
   "metadata": {},
   "outputs": [
    {
     "name": "stdout",
     "output_type": "stream",
     "text": [
      "<class 'pandas.core.frame.DataFrame'>\n",
      "RangeIndex: 1877 entries, 0 to 1876\n",
      "Data columns (total 6 columns):\n",
      "Date_time     1877 non-null object\n",
      "total_fire    1877 non-null int64\n",
      "Temp          1857 non-null float64\n",
      "Dew_P         1857 non-null float64\n",
      "Hum           1857 non-null float64\n",
      "Wind          1854 non-null float64\n",
      "dtypes: float64(4), int64(1), object(1)\n",
      "memory usage: 88.1+ KB\n"
     ]
    }
   ],
   "source": [
    "intervention.info()"
   ]
  },
  {
   "cell_type": "code",
   "execution_count": 6,
   "metadata": {},
   "outputs": [
    {
     "data": {
      "text/plain": [
       "array([[<matplotlib.axes._subplots.AxesSubplot object at 0x000001FBF32F1EF0>,\n",
       "        <matplotlib.axes._subplots.AxesSubplot object at 0x000001FBF3287240>],\n",
       "       [<matplotlib.axes._subplots.AxesSubplot object at 0x000001FBF3457518>,\n",
       "        <matplotlib.axes._subplots.AxesSubplot object at 0x000001FBF35351D0>],\n",
       "       [<matplotlib.axes._subplots.AxesSubplot object at 0x000001FBF3592B00>,\n",
       "        <matplotlib.axes._subplots.AxesSubplot object at 0x000001FBF3592B38>]], dtype=object)"
      ]
     },
     "execution_count": 6,
     "metadata": {},
     "output_type": "execute_result"
    },
    {
     "data": {
      "image/png": "[encoded data removed]",
      "text/plain": [
       "<matplotlib.figure.Figure at 0x1fbf32f1780>"
      ]
     },
     "metadata": {},
     "output_type": "display_data"
    }
   ],
   "source": [
    "intervention.hist()"
   ]
  },
  {
   "cell_type": "code",
   "execution_count": 7,
   "metadata": {},
   "outputs": [
    {
     "data": {
      "text/plain": [
       "total_fire    327.009590\n",
       "Temp            7.271893\n",
       "Dew_P           1.265020\n",
       "Hum            68.443446\n",
       "Wind            6.468942\n",
       "dtype: float64"
      ]
     },
     "execution_count": 7,
     "metadata": {},
     "output_type": "execute_result"
    }
   ],
   "source": [
    "intervention.mean()"
   ]
  },
  {
   "cell_type": "code",
   "execution_count": 8,
   "metadata": {},
   "outputs": [],
   "source": [
    "intervention=intervention.fillna(intervention.mean())"
   ]
  },
  {
   "cell_type": "code",
   "execution_count": 9,
   "metadata": {},
   "outputs": [
    {
     "data": {
      "text/plain": [
       "<bound method DataFrame.info of        Date_time  total_fire       Temp      Dew_P        Hum       Wind\n",
       "0       1/1/2013         414 -10.233333 -14.458333  69.000000   5.458333\n",
       "1       1/1/2014         427 -17.925000 -23.666667  59.083333   6.041667\n",
       "2       1/1/2015         411  -5.112500  -8.250000  76.333333  10.458333\n",
       "3       1/1/2016         361  -1.479167  -2.875000  87.541667   5.166667\n",
       "4       1/1/2017         395  -2.704167  -5.291667  80.875000   4.791667\n",
       "5       1/1/2018         527 -21.320833 -26.666667  60.333333   7.791667\n",
       "6       1/2/2013         346 -15.325000 -19.083333  70.291667   7.166667\n",
       "7       1/2/2014         459 -24.870833 -29.833333  60.791667  12.125000\n",
       "8       1/2/2015         342  -7.641667 -15.375000  52.708333   4.875000\n",
       "9       1/2/2016         303  -1.525000  -4.166667  79.791667   7.250000\n",
       "10      1/2/2017         347  -1.487500  -4.083333  80.500000   6.416667\n",
       "11      1/2/2018         446 -17.829167 -20.916667  74.291667   6.333333\n",
       "12      1/3/2013         392 -16.795833 -20.000000  73.750000   5.208333\n",
       "13      1/3/2014         544 -22.029167 -28.000000  56.416667   9.583333\n",
       "14      1/3/2015         380 -12.566667 -17.583333  64.666667   4.375000\n",
       "15      1/3/2016         303  -2.441667  -2.750000  94.250000   8.291667\n",
       "16      1/3/2017         323  -2.516667  -2.708333  97.041667   7.500000\n",
       "17      1/3/2018         426 -12.245833 -14.208333  82.291667   3.875000\n",
       "18      1/4/2013         395  -4.745833  -6.583333  84.500000   7.541667\n",
       "19      1/4/2014         549 -14.375000 -18.000000  71.625000   7.083333\n",
       "20      1/4/2015         707  -2.720833  -3.166667  94.958333   2.625000\n",
       "21      1/4/2016         332 -15.812500 -20.250000  66.541667  11.541667\n",
       "22      1/4/2017         388  -1.045833  -1.416667  95.291667   6.958333\n",
       "23      1/4/2018         438  -9.158333 -11.416667  80.916667   9.833333\n",
       "24      1/5/2013         299  -5.987500 -11.333333  64.500000   6.833333\n",
       "25      1/5/2014         521  -5.825000  -8.375000  79.416667   4.875000\n",
       "26      1/5/2015         454 -12.825000 -17.625000  65.541667   8.333333\n",
       "27      1/5/2016         345 -14.329167 -16.916667  77.875000   6.666667\n",
       "28      1/5/2017         364  -6.850000 -10.958333  70.000000   7.666667\n",
       "29      1/5/2018         377 -18.679167 -21.625000  74.458333   8.708333\n",
       "...          ...         ...        ...        ...        ...        ...\n",
       "1847  12/26/2013         288 -11.708333 -13.583333  82.625000   5.791667\n",
       "1848  12/26/2014         324   4.000000  -0.458333  70.500000   7.083333\n",
       "1849  12/26/2015         260   2.258333  -2.791667  67.583333   4.625000\n",
       "1850  12/26/2016         400  -7.016667  -9.166667  81.833333   7.500000\n",
       "1851  12/26/2017         330 -11.670833 -20.166667  48.166667   6.916667\n",
       "1852  12/27/2013         309  -6.275000  -8.875000  79.166667   5.541667\n",
       "1853  12/27/2014         364   3.825000   0.416667  81.708333   4.708333\n",
       "1854  12/27/2015         258  -0.879167  -1.708333  90.583333   7.250000\n",
       "1855  12/27/2016         315   3.079167   0.375000  82.416667   7.750000\n",
       "1856  12/27/2017         404 -19.816667 -26.958333  50.750000   4.791667\n",
       "1857  12/28/2013         338  -0.050000  -2.000000  85.416667   6.208333\n",
       "1858  12/28/2014         307   3.975000  -1.333333  68.375000   6.291667\n",
       "1859  12/28/2015         256  -9.291667 -13.708333  67.541667   9.875000\n",
       "1860  12/28/2016         268  -3.729167  -7.333333  73.833333   6.000000\n",
       "1861  12/28/2017         490 -22.866667 -28.000000  60.250000   7.458333\n",
       "1862  12/29/2013         297  -6.987500  -8.375000  87.291667  11.458333\n",
       "1863  12/29/2014         298  -5.700000 -13.916667  50.541667   5.375000\n",
       "1864  12/29/2015         252  -9.679167 -10.166667  92.791667  11.708333\n",
       "1865  12/29/2016         341  -3.258333  -4.083333  92.041667   5.250000\n",
       "1866  12/29/2017         455 -20.475000 -24.500000  67.500000   5.291667\n",
       "1867  12/30/2013         330 -13.825000 -17.875000  69.625000   5.833333\n",
       "1868  12/30/2014         358 -12.095833 -20.583333  47.750000   5.166667\n",
       "1869  12/30/2015         320  -7.158333  -7.083333  96.750000   7.375000\n",
       "1870  12/30/2016         305  -4.629167  -6.916667  81.291667   5.916667\n",
       "1871  12/30/2017         409 -19.141667 -23.333333  67.083333   5.541667\n",
       "1872  12/31/2013         325 -16.850000 -20.458333  71.291667   5.833333\n",
       "1873  12/31/2014         337  -9.737500 -16.458333  56.416667   7.208333\n",
       "1874  12/31/2015         348  -2.095833  -2.458333  94.000000   5.333333\n",
       "1875  12/31/2016         351 -10.675000 -12.666667  82.750000   6.125000\n",
       "1876  12/31/2017         401 -20.387500 -25.458333  61.250000   5.333333\n",
       "\n",
       "[1877 rows x 6 columns]>"
      ]
     },
     "execution_count": 9,
     "metadata": {},
     "output_type": "execute_result"
    }
   ],
   "source": [
    "intervention.info"
   ]
  },
  {
   "cell_type": "code",
   "execution_count": 10,
   "metadata": {},
   "outputs": [
    {
     "data": {
      "text/plain": [
       "<matplotlib.axes._subplots.AxesSubplot at 0x1fbf39eecf8>"
      ]
     },
     "execution_count": 10,
     "metadata": {},
     "output_type": "execute_result"
    },
    {
     "data": {
      "image/png": "[encoded data removed]",
      "text/plain": [
       "<matplotlib.figure.Figure at 0x1fbf38e3f98>"
      ]
     },
     "metadata": {},
     "output_type": "display_data"
    }
   ],
   "source": [
    "intervention.boxplot()"
   ]
  },
  {
   "cell_type": "code",
   "execution_count": 11,
   "metadata": {},
   "outputs": [],
   "source": [
    "from sklearn.linear_model import LinearRegression"
   ]
  },
  {
   "cell_type": "code",
   "execution_count": 12,
   "metadata": {},
   "outputs": [
    {
     "data": {
      "text/plain": [
       "LinearRegression(copy_X=True, fit_intercept=True, n_jobs=1, normalize=False)"
      ]
     },
     "execution_count": 12,
     "metadata": {},
     "output_type": "execute_result"
    }
   ],
   "source": [
    "Ic=LinearRegression()\n",
    "Ic.fit(X=intervention[['Temp']],y=intervention['total_fire'])"
   ]
  },
  {
   "cell_type": "code",
   "execution_count": 13,
   "metadata": {},
   "outputs": [
    {
     "name": "stdout",
     "output_type": "stream",
     "text": [
      "325.681128842 [ 0.18268433]\n"
     ]
    }
   ],
   "source": [
    "# regression parameters intercept is beta0 and coef_ is beta1\n",
    "print(Ic.intercept_, Ic.coef_)"
   ]
  },
  {
   "cell_type": "code",
   "execution_count": 14,
   "metadata": {},
   "outputs": [
    {
     "data": {
      "text/html": [
       "<table class=\"simpletable\">\n",
       "<caption>OLS Regression Results</caption>\n",
       "<tr>\n",
       "  <th>Dep. Variable:</th>       <td>total_fire</td>    <th>  R-squared:         </th> <td>   0.018</td> \n",
       "</tr>\n",
       "<tr>\n",
       "  <th>Model:</th>                   <td>OLS</td>       <th>  Adj. R-squared:    </th> <td>   0.016</td> \n",
       "</tr>\n",
       "<tr>\n",
       "  <th>Method:</th>             <td>Least Squares</td>  <th>  F-statistic:       </th> <td>   8.595</td> \n",
       "</tr>\n",
       "<tr>\n",
       "  <th>Date:</th>             <td>Fri, 22 Feb 2019</td> <th>  Prob (F-statistic):</th> <td>7.15e-07</td> \n",
       "</tr>\n",
       "<tr>\n",
       "  <th>Time:</th>                 <td>21:17:12</td>     <th>  Log-Likelihood:    </th> <td> -9739.4</td> \n",
       "</tr>\n",
       "<tr>\n",
       "  <th>No. Observations:</th>      <td>  1877</td>      <th>  AIC:               </th> <td>1.949e+04</td>\n",
       "</tr>\n",
       "<tr>\n",
       "  <th>Df Residuals:</th>          <td>  1872</td>      <th>  BIC:               </th> <td>1.952e+04</td>\n",
       "</tr>\n",
       "<tr>\n",
       "  <th>Df Model:</th>              <td>     4</td>      <th>                     </th>     <td> </td>    \n",
       "</tr>\n",
       "<tr>\n",
       "  <th>Covariance Type:</th>      <td>nonrobust</td>    <th>                     </th>     <td> </td>    \n",
       "</tr>\n",
       "</table>\n",
       "<table class=\"simpletable\">\n",
       "<tr>\n",
       "      <td></td>         <th>coef</th>     <th>std err</th>      <th>t</th>      <th>P>|t|</th>  <th>[0.025</th>    <th>0.975]</th>  \n",
       "</tr>\n",
       "<tr>\n",
       "  <th>Intercept</th> <td>  148.7518</td> <td>   35.005</td> <td>    4.249</td> <td> 0.000</td> <td>   80.100</td> <td>  217.404</td>\n",
       "</tr>\n",
       "<tr>\n",
       "  <th>Temp</th>      <td>    7.5709</td> <td>    1.559</td> <td>    4.856</td> <td> 0.000</td> <td>    4.513</td> <td>   10.629</td>\n",
       "</tr>\n",
       "<tr>\n",
       "  <th>Dew_P</th>     <td>   -8.0372</td> <td>    1.699</td> <td>   -4.730</td> <td> 0.000</td> <td>  -11.369</td> <td>   -4.705</td>\n",
       "</tr>\n",
       "<tr>\n",
       "  <th>Hum</th>       <td>    1.9543</td> <td>    0.379</td> <td>    5.161</td> <td> 0.000</td> <td>    1.212</td> <td>    2.697</td>\n",
       "</tr>\n",
       "<tr>\n",
       "  <th>Wind</th>      <td>   -0.0603</td> <td>    0.520</td> <td>   -0.116</td> <td> 0.908</td> <td>   -1.080</td> <td>    0.959</td>\n",
       "</tr>\n",
       "</table>\n",
       "<table class=\"simpletable\">\n",
       "<tr>\n",
       "  <th>Omnibus:</th>       <td>1064.777</td> <th>  Durbin-Watson:     </th> <td>   1.759</td> \n",
       "</tr>\n",
       "<tr>\n",
       "  <th>Prob(Omnibus):</th>  <td> 0.000</td>  <th>  Jarque-Bera (JB):  </th> <td>17163.381</td>\n",
       "</tr>\n",
       "<tr>\n",
       "  <th>Skew:</th>           <td> 2.320</td>  <th>  Prob(JB):          </th> <td>    0.00</td> \n",
       "</tr>\n",
       "<tr>\n",
       "  <th>Kurtosis:</th>       <td>17.068</td>  <th>  Cond. No.          </th> <td>2.47e+03</td> \n",
       "</tr>\n",
       "</table>"
      ],
      "text/plain": [
       "<class 'statsmodels.iolib.summary.Summary'>\n",
       "\"\"\"\n",
       "                            OLS Regression Results                            \n",
       "==============================================================================\n",
       "Dep. Variable:             total_fire   R-squared:                       0.018\n",
       "Model:                            OLS   Adj. R-squared:                  0.016\n",
       "Method:                 Least Squares   F-statistic:                     8.595\n",
       "Date:                Fri, 22 Feb 2019   Prob (F-statistic):           7.15e-07\n",
       "Time:                        21:17:12   Log-Likelihood:                -9739.4\n",
       "No. Observations:                1877   AIC:                         1.949e+04\n",
       "Df Residuals:                    1872   BIC:                         1.952e+04\n",
       "Df Model:                           4                                         \n",
       "Covariance Type:            nonrobust                                         \n",
       "==============================================================================\n",
       "                 coef    std err          t      P>|t|      [0.025      0.975]\n",
       "------------------------------------------------------------------------------\n",
       "Intercept    148.7518     35.005      4.249      0.000      80.100     217.404\n",
       "Temp           7.5709      1.559      4.856      0.000       4.513      10.629\n",
       "Dew_P         -8.0372      1.699     -4.730      0.000     -11.369      -4.705\n",
       "Hum            1.9543      0.379      5.161      0.000       1.212       2.697\n",
       "Wind          -0.0603      0.520     -0.116      0.908      -1.080       0.959\n",
       "==============================================================================\n",
       "Omnibus:                     1064.777   Durbin-Watson:                   1.759\n",
       "Prob(Omnibus):                  0.000   Jarque-Bera (JB):            17163.381\n",
       "Skew:                           2.320   Prob(JB):                         0.00\n",
       "Kurtosis:                      17.068   Cond. No.                     2.47e+03\n",
       "==============================================================================\n",
       "\n",
       "Warnings:\n",
       "[1] Standard Errors assume that the covariance matrix of the errors is correctly specified.\n",
       "[2] The condition number is large, 2.47e+03. This might indicate that there are\n",
       "strong multicollinearity or other numerical problems.\n",
       "\"\"\""
      ]
     },
     "execution_count": 14,
     "metadata": {},
     "output_type": "execute_result"
    }
   ],
   "source": [
    "import statsmodels.formula.api as smf\n",
    "model=smf.ols(formula='total_fire~Temp+Dew_P+Hum+Wind',data=intervention)\n",
    "ir=model.fit()\n",
    "ir.summary()"
   ]
  },
  {
   "cell_type": "code",
   "execution_count": null,
   "metadata": {},
   "outputs": [],
   "source": []
  }
 ],
 "metadata": {
  "kernelspec": {
   "display_name": "Python 3",
   "language": "python",
   "name": "python3"
  },
  "language_info": {
   "codemirror_mode": {
    "name": "ipython",
    "version": 3
   },
   "file_extension": ".py",
   "mimetype": "text/x-python",
   "name": "python",
   "nbconvert_exporter": "python",
   "pygments_lexer": "ipython3",
   "version": "3.6.2"
  }
 },
 "nbformat": 4,
 "nbformat_minor": 2
}
